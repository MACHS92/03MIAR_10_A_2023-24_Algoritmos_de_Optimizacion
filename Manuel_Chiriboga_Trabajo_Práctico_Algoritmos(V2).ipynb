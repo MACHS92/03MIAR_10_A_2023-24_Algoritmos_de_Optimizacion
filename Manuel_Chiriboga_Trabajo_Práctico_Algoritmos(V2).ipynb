{
  "nbformat": 4,
  "nbformat_minor": 0,
  "metadata": {
    "colab": {
      "provenance": [],
      "include_colab_link": true
    },
    "kernelspec": {
      "name": "python3",
      "display_name": "Python 3"
    }
  },
  "cells": [
    {
      "cell_type": "markdown",
      "metadata": {
        "id": "view-in-github",
        "colab_type": "text"
      },
      "source": [
        "<a href=\"https://colab.research.google.com/github/MACHS92/03MIAR_10_A_2023-24_Algoritmos_de_Optimizacion/blob/main/Manuel_Chiriboga_Trabajo_Pr%C3%A1ctico_Algoritmos(V2).ipynb\" target=\"_parent\"><img src=\"https://colab.research.google.com/assets/colab-badge.svg\" alt=\"Open In Colab\"/></a>"
      ]
    },
    {
      "cell_type": "markdown",
      "metadata": {
        "id": "hVbXYX-RfPWh"
      },
      "source": [
        "# Algoritmos de optimización - Trabajo Práctico<br>\n",
        "Nombre y Apellidos: Manuel Alejandro Chiriboga Salazar  <br>\n",
        "Url: https://github.com/MACHS92/03MIAR_10_A_2023-24_Algoritmos_de_Optimizacion<br>\n",
        "Google Colab: https://colab.research.google.com/drive/1uhCtXpNBSYqvIh4YpLesQ3waDD2hzYCs <br>\n",
        "Problema:\n",
        "\n",
        ">3. Configuración de Tribunales\n",
        "\n",
        " Se precisa configurar tribunales de evaluación para un grupo de 15 alumnos que desean presentar su Trabajo Fin de Máster (TFM).\n",
        "\n",
        " Cada tribunal está compuesto por tres profesores, cada uno desempeñando uno de lossiguientes roles: Presidente, Secretario o Vocal.\n",
        "\n",
        "Los profesores han indicado su disponibilidad horaria para participar en los tribunales de 15h a 21h durante la semana del 15 al 19 de abril:\n",
        "\n",
        "Número de profesores : 10\n",
        "\n",
        "Número de tribunales : 15\n",
        "\n",
        "Disponibilidad/Roles : https://bit.ly/41QWk8o\n",
        "- 1 indica que profesor tiene disponibilidad\n",
        "- 0 en caso contrario\n",
        "\n",
        "\n",
        "\n",
        "\n",
        "\n",
        "\n",
        "\n",
        "\n",
        "\n",
        "\n",
        "                                        "
      ]
    },
    {
      "cell_type": "markdown",
      "source": [
        "#Modelo\n",
        "- ¿Como represento el espacio de soluciones?\n",
        "- ¿Cual es la función objetivo?\n",
        "- ¿Como implemento las restricciones?"
      ],
      "metadata": {
        "id": "Sbo9IqQtpaHZ"
      }
    },
    {
      "cell_type": "markdown",
      "source": [
        "Para el Espacio de solución so propone una matriz correspondiente a la señalada se plantea que al día se realizaran 3 tribunales en horario por definir que será nuestra variable W de la misma manera que profesores en el cargo de Presidente (X), Secretario(Y) y vocal (Z) .De la misma manera el rol de los que pueden representar cargos serán correspondientemente 6XYZ , 3YZ , ZX .\n",
        "\n",
        "\n",
        "\n",
        "Por lo cual planteo una función objetivo : 3x-6xyz+3y-3yz+3z-xz+7w\n",
        "\n",
        "Con los limitantes w menor o igual a 7  \n",
        "\n",
        "X , Y , Z menor o igual a 10  \n"
      ],
      "metadata": {
        "id": "mzMX8mcv98lk"
      }
    },
    {
      "cell_type": "code",
      "metadata": {
        "id": "AiskKkzZfy4e"
      },
      "source": [
        "#Respuesta\n",
        "\n"
      ],
      "execution_count": null,
      "outputs": []
    },
    {
      "cell_type": "markdown",
      "source": [
        "#Análisis\n",
        "- ¿Que complejidad tiene el problema?. Orden de complejidad y Contabilizar el espacio de soluciones"
      ],
      "metadata": {
        "id": "HZz52wOppp-U"
      }
    },
    {
      "cell_type": "code",
      "source": [
        "#Ya que las variables son 4 se trata de n4\n",
        "\n",
        "#Y de igual manera por las restricciones se tiene un m2\n",
        "\n",
        "#Con esto podemos darnos cuenta de que se trata de un problema que no se puede resolver sencillamente con  algoritmia simple el espacio de solución es demaciado alto\n"
      ],
      "metadata": {
        "id": "CZ-5BmpspttV"
      },
      "execution_count": null,
      "outputs": []
    },
    {
      "cell_type": "markdown",
      "source": [
        "#Diseño\n",
        "- ¿Que técnica utilizo? ¿Por qué?"
      ],
      "metadata": {
        "id": "ixEJUwH_pv7M"
      }
    },
    {
      "cell_type": "code",
      "source": [
        "!pip install requests    #Hacer llamadas http a paginas de la red\n",
        "!pip install tsplib95    #Modulo para las instancias del problema del TSP"
      ],
      "metadata": {
        "colab": {
          "base_uri": "https://localhost:8080/"
        },
        "id": "n654KPpuVJCA",
        "outputId": "ba596b51-a098-4e10-aadc-4a2fa2ecb387"
      },
      "execution_count": null,
      "outputs": [
        {
          "output_type": "stream",
          "name": "stdout",
          "text": [
            "Requirement already satisfied: requests in /usr/local/lib/python3.10/dist-packages (2.31.0)\n",
            "Requirement already satisfied: charset-normalizer<4,>=2 in /usr/local/lib/python3.10/dist-packages (from requests) (3.3.2)\n",
            "Requirement already satisfied: idna<4,>=2.5 in /usr/local/lib/python3.10/dist-packages (from requests) (3.6)\n",
            "Requirement already satisfied: urllib3<3,>=1.21.1 in /usr/local/lib/python3.10/dist-packages (from requests) (2.0.7)\n",
            "Requirement already satisfied: certifi>=2017.4.17 in /usr/local/lib/python3.10/dist-packages (from requests) (2024.2.2)\n",
            "Collecting tsplib95\n",
            "  Downloading tsplib95-0.7.1-py2.py3-none-any.whl (25 kB)\n",
            "Requirement already satisfied: Click>=6.0 in /usr/local/lib/python3.10/dist-packages (from tsplib95) (8.1.7)\n",
            "Collecting Deprecated~=1.2.9 (from tsplib95)\n",
            "  Downloading Deprecated-1.2.14-py2.py3-none-any.whl (9.6 kB)\n",
            "Collecting networkx~=2.1 (from tsplib95)\n",
            "  Downloading networkx-2.8.8-py3-none-any.whl (2.0 MB)\n",
            "\u001b[2K     \u001b[90m━━━━━━━━━━━━━━━━━━━━━━━━━━━━━━━━━━━━━━━━\u001b[0m \u001b[32m2.0/2.0 MB\u001b[0m \u001b[31m19.9 MB/s\u001b[0m eta \u001b[36m0:00:00\u001b[0m\n",
            "\u001b[?25hCollecting tabulate~=0.8.7 (from tsplib95)\n",
            "  Downloading tabulate-0.8.10-py3-none-any.whl (29 kB)\n",
            "Requirement already satisfied: wrapt<2,>=1.10 in /usr/local/lib/python3.10/dist-packages (from Deprecated~=1.2.9->tsplib95) (1.14.1)\n",
            "Installing collected packages: tabulate, networkx, Deprecated, tsplib95\n",
            "  Attempting uninstall: tabulate\n",
            "    Found existing installation: tabulate 0.9.0\n",
            "    Uninstalling tabulate-0.9.0:\n",
            "      Successfully uninstalled tabulate-0.9.0\n",
            "  Attempting uninstall: networkx\n",
            "    Found existing installation: networkx 3.2.1\n",
            "    Uninstalling networkx-3.2.1:\n",
            "      Successfully uninstalled networkx-3.2.1\n",
            "\u001b[31mERROR: pip's dependency resolver does not currently take into account all the packages that are installed. This behaviour is the source of the following dependency conflicts.\n",
            "lida 0.0.10 requires fastapi, which is not installed.\n",
            "lida 0.0.10 requires kaleido, which is not installed.\n",
            "lida 0.0.10 requires python-multipart, which is not installed.\n",
            "lida 0.0.10 requires uvicorn, which is not installed.\n",
            "bigframes 0.20.1 requires tabulate>=0.9, but you have tabulate 0.8.10 which is incompatible.\u001b[0m\u001b[31m\n",
            "\u001b[0mSuccessfully installed Deprecated-1.2.14 networkx-2.8.8 tabulate-0.8.10 tsplib95-0.7.1\n"
          ]
        }
      ]
    },
    {
      "cell_type": "code",
      "source": [
        "#En este aso estoy empezando a probar con búsqueda aleatoria cabe recalcar que ya se intento con algoritmos voraces pero se quiere encontrar una mejor solución mas eficiente.\n",
        "#Opte por esta opción ya que en la parte anterior me percate que se puede generar vecindades entre los profesores que si pueden ayudar en el tribunal con las horas en las que se encuentran libres y espero esto me lleve  a una solución\n",
        "\n",
        "import urllib.request\n",
        "import tsplib95\n",
        "import math\n",
        "import random\n",
        "\n",
        "file =Datos.csv;\n",
        "urllib.request.urlretrieve(\"https://alumnosviu-my.sharepoint.com/:x:/r/personal/manuel_chiriboga_student_universidadviu_com/_layouts/15/Doc.aspx?sourcedoc=%7B2B726BDA-31F1-4BBB-ADC2-BFF7C1678FF4%7D&file=Book%203.xlsx&action=editnew&mobileredirect=true&wdNewAndOpenCt=1707775713173&ct=1707775715034&wdOrigin=OFFICECOM-WEB.START.NEW&wdPreviousSessionSrc=HarmonyWeb&wdPreviousSession=a6b06489-de0f-4b6d-b178-a6b18797c0da&cid=3b95a6ab-0d25-4256-83b0-43d7c43e2503\",file + '.gz')\n"
      ],
      "metadata": {
        "id": "ZdKPjB9gp2BA",
        "colab": {
          "base_uri": "https://localhost:8080/",
          "height": 262
        },
        "outputId": "8b04a3d6-50e0-426d-9796-68ea18328b82"
      },
      "execution_count": null,
      "outputs": [
        {
          "output_type": "error",
          "ename": "NameError",
          "evalue": "name 'Datos' is not defined",
          "traceback": [
            "\u001b[0;31m---------------------------------------------------------------------------\u001b[0m",
            "\u001b[0;31mNameError\u001b[0m                                 Traceback (most recent call last)",
            "\u001b[0;32m<ipython-input-7-596d392934a0>\u001b[0m in \u001b[0;36m<cell line: 9>\u001b[0;34m()\u001b[0m\n\u001b[1;32m      7\u001b[0m \u001b[0;32mimport\u001b[0m \u001b[0mrandom\u001b[0m\u001b[0;34m\u001b[0m\u001b[0;34m\u001b[0m\u001b[0m\n\u001b[1;32m      8\u001b[0m \u001b[0;34m\u001b[0m\u001b[0m\n\u001b[0;32m----> 9\u001b[0;31m \u001b[0mfile\u001b[0m \u001b[0;34m=\u001b[0m \u001b[0mDatos\u001b[0m\u001b[0;34m.\u001b[0m\u001b[0mcsv\u001b[0m\u001b[0;34m;\u001b[0m\u001b[0;34m\u001b[0m\u001b[0;34m\u001b[0m\u001b[0m\n\u001b[0m\u001b[1;32m     10\u001b[0m \u001b[0murllib\u001b[0m\u001b[0;34m.\u001b[0m\u001b[0mrequest\u001b[0m\u001b[0;34m.\u001b[0m\u001b[0murlretrieve\u001b[0m\u001b[0;34m(\u001b[0m\u001b[0;34m\"https://alumnosviu-my.sharepoint.com/:x:/r/personal/manuel_chiriboga_student_universidadviu_com/_layouts/15/Doc.aspx?sourcedoc=%7B2B726BDA-31F1-4BBB-ADC2-BFF7C1678FF4%7D&file=Book%203.xlsx&action=editnew&mobileredirect=true&wdNewAndOpenCt=1707775713173&ct=1707775715034&wdOrigin=OFFICECOM-WEB.START.NEW&wdPreviousSessionSrc=HarmonyWeb&wdPreviousSession=a6b06489-de0f-4b6d-b178-a6b18797c0da&cid=3b95a6ab-0d25-4256-83b0-43d7c43e2503\"\u001b[0m\u001b[0;34m,\u001b[0m\u001b[0mfile\u001b[0m \u001b[0;34m+\u001b[0m \u001b[0;34m'.gz'\u001b[0m\u001b[0;34m)\u001b[0m\u001b[0;34m\u001b[0m\u001b[0;34m\u001b[0m\u001b[0m\n",
            "\u001b[0;31mNameError\u001b[0m: name 'Datos' is not defined"
          ]
        }
      ]
    }
  ]
}