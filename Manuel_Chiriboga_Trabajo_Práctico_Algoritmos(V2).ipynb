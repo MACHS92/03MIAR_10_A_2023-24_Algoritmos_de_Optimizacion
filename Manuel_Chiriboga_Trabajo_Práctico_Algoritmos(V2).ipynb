{
  "nbformat": 4,
  "nbformat_minor": 0,
  "metadata": {
    "colab": {
      "provenance": [],
      "include_colab_link": true
    },
    "kernelspec": {
      "name": "python3",
      "display_name": "Python 3"
    }
  },
  "cells": [
    {
      "cell_type": "markdown",
      "metadata": {
        "id": "view-in-github",
        "colab_type": "text"
      },
      "source": [
        "<a href=\"https://colab.research.google.com/github/MACHS92/03MIAR_10_A_2023-24_Algoritmos_de_Optimizacion/blob/main/Manuel_Chiriboga_Trabajo_Pr%C3%A1ctico_Algoritmos(V2).ipynb\" target=\"_parent\"><img src=\"https://colab.research.google.com/assets/colab-badge.svg\" alt=\"Open In Colab\"/></a>"
      ]
    },
    {
      "cell_type": "code",
      "source": [],
      "metadata": {
        "id": "VzLGGgl5JH4A"
      },
      "execution_count": null,
      "outputs": []
    },
    {
      "cell_type": "markdown",
      "metadata": {
        "id": "hVbXYX-RfPWh"
      },
      "source": [
        "# Algoritmos de optimización - Trabajo Práctico<br>\n",
        "Nombre y Apellidos: Manuel Alejandro Chiriboga Salazar  <br>\n",
        "Url: https://github.com/MACHS92/03MIAR_10_A_2023-24_Algoritmos_de_Optimizacion/blob/main/Manuel_Chiriboga_Trabajo_Pr%C3%A1ctico_Algoritmos(V2).ipynb<br>\n",
        "Google Colab: https://colab.research.google.com/drive/1uhCtXpNBSYqvIh4YpLesQ3waDD2hzYCs#scrollTo=hVbXYX-RfPWh <br>\n",
        "Problema:\n",
        "\n",
        ">3. Configuración de Tribunales\n",
        "\n",
        " Se precisa configurar tribunales de evaluación para un grupo de 15 alumnos que desean presentar su Trabajo Fin de Máster (TFM).\n",
        "\n",
        " Cada tribunal está compuesto por tres profesores, cada uno desempeñando uno de lossiguientes roles: Presidente, Secretario o Vocal.\n",
        "\n",
        "Los profesores han indicado su disponibilidad horaria para participar en los tribunales de 15h a 21h durante la semana del 15 al 19 de abril:\n",
        "\n",
        "Número de profesores : 10\n",
        "\n",
        "Número de tribunales : 15\n",
        "\n",
        "Disponibilidad/Roles : https://bit.ly/41QWk8o\n",
        "- 1 indica que profesor tiene disponibilidad\n",
        "- 0 en caso contrario\n",
        "\n",
        "\n",
        "\n",
        "\n",
        "\n",
        "\n",
        "\n",
        "\n",
        "\n",
        "\n",
        "                                        "
      ]
    },
    {
      "cell_type": "markdown",
      "source": [
        "#Modelo\n",
        "- ¿Como represento el espacio de soluciones?\n",
        "- ¿Cual es la función objetivo?\n",
        "- ¿Como implemento las restricciones?"
      ],
      "metadata": {
        "id": "Sbo9IqQtpaHZ"
      }
    },
    {
      "cell_type": "markdown",
      "source": [
        "Para resolver este problema de optimización debemos empezar por reconocer cual es la variable para optimizar. En el mismo en este caso sería el tiempo de cada profesor en los tribunales de TFM, evitando solapamientos , o incurriendo en choques de horarios o que algunos profesores tengan mas o menos horas de TFM.\n",
        "\n",
        "##¿Como represento el espacio de soluciones?\n",
        "\n",
        "Par modelar el espacio de solución tenemos  una matriz donde las columna representan los tribunales y las filas representan los profesores. Los valores de la matriz serían binarios, indicando si un profesor está asignado a un tribunal o no.\n",
        "\n",
        "\n",
        "\n",
        "##¿Cual es la función objetivo?\n",
        "\n",
        " La función objetivo seria la minimización del solapamiento de horarios entre los tribunales. Por ejemplo, podríamos minimizar la cantidad total de horas en las que dos tribunales tienen al menos un profesor en común o también disminuir la repetición de profesores en un tribunal para que sea equitativa la distribución.  \n",
        "\n",
        "##¿Como implemento las restricciones?\n",
        "\n",
        "1.-Los profesores solo pueden ser asignados a tribunales durante sus horas de disponibilidad\n",
        "\n",
        "2.-Cada tribunal debe tener exactamente tres profesores asignados.\n",
        "\n",
        "3.-Cada profesor puede participar en un máximo de un tribunal a la vez.\n"
      ],
      "metadata": {
        "id": "mzMX8mcv98lk"
      }
    },
    {
      "cell_type": "code",
      "metadata": {
        "id": "AiskKkzZfy4e"
      },
      "source": [
        "#Respuesta\n",
        "\n"
      ],
      "execution_count": null,
      "outputs": []
    },
    {
      "cell_type": "markdown",
      "source": [
        "#Análisis\n",
        "- ¿Que complejidad tiene el problema?. Orden de complejidad y Contabilizar el espacio de soluciones"
      ],
      "metadata": {
        "id": "HZz52wOppp-U"
      }
    },
    {
      "cell_type": "markdown",
      "source": [
        "Como se observa en el programa anteriormente aplicado podemos notar que esta relaciona directamente  a los tres roles de los profesores y sus impedimentos horarios además impedimentos de los mismos roles . Por lo mismo Por lo tanto, la complejidad del algoritmo es exponencial en términos del número de tribunales, lo que lo hace computacionalmente costoso.\n",
        "\n",
        "En cuanto al espacio de soluciones, cada tribunal puede tener diferentes combinaciones de profesores en cada uno de los tres roles. Dado que hay 10 profesores y 3 roles, el espacio de soluciones total para un tribunal es 103=1000. Dado que hay 15 tribunales en total, el espacio de soluciones completo es 100015, lo que representa una cantidad extremadamente grande de posibles configuraciones."
      ],
      "metadata": {
        "id": "_HvvWHEoGkyC"
      }
    },
    {
      "cell_type": "markdown",
      "source": [
        "#Diseño\n",
        "- ¿Que técnica utilizo? ¿Por qué?"
      ],
      "metadata": {
        "id": "ixEJUwH_pv7M"
      }
    },
    {
      "cell_type": "markdown",
      "source": [
        "En este caso después de analizar y probar un par de algoritmos concretamente genéticos con  la  librería deap de python  y backtracking con poda llegamos a la conclusión que la manera mas optima de conseguir una solución es backtracking con poda"
      ],
      "metadata": {
        "id": "iSO0IKYkpMTz"
      }
    },
    {
      "cell_type": "code",
      "source": [
        "#Importaciones\n",
        "import os\n",
        "import csv\n",
        "import math\n",
        "import random\n",
        "import pandas as pd\n",
        "import numpy as np"
      ],
      "metadata": {
        "id": "ZdKPjB9gp2BA"
      },
      "execution_count": null,
      "outputs": []
    },
    {
      "cell_type": "code",
      "source": [
        "! git clone https://github.com/MACHS92/03MIAR_10_A_2023-24_Algoritmos_de_Optimizacion/blob/main/tribunal_horarios.csv\n",
        "! git clone https://github.com/MACHS92/03MIAR_10_A_2023-24_Algoritmos_de_Optimizacion/blob/main/tribunal_roles.csv"
      ],
      "metadata": {
        "colab": {
          "base_uri": "https://localhost:8080/"
        },
        "id": "gz9ZkO_gmbfU",
        "outputId": "a181c04e-49ac-45cd-d26c-28559ada387a"
      },
      "execution_count": null,
      "outputs": [
        {
          "output_type": "stream",
          "name": "stdout",
          "text": [
            "Cloning into 'tribunal_horarios.csv'...\n",
            "fatal: repository 'https://github.com/MACHS92/03MIAR_10_A_2023-24_Algoritmos_de_Optimizacion/blob/main/tribunal_horarios.csv/' not found\n",
            "Cloning into 'tribunal_roles.csv'...\n",
            "fatal: repository 'https://github.com/MACHS92/03MIAR_10_A_2023-24_Algoritmos_de_Optimizacion/blob/main/tribunal_roles.csv/' not found\n"
          ]
        }
      ]
    },
    {
      "cell_type": "code",
      "source": [
        "! ls"
      ],
      "metadata": {
        "colab": {
          "base_uri": "https://localhost:8080/"
        },
        "id": "iYpX4Flvm7Vu",
        "outputId": "93451576-37b9-4fc2-f9d4-216d218ed7bc"
      },
      "execution_count": null,
      "outputs": [
        {
          "output_type": "stream",
          "name": "stdout",
          "text": [
            "sample_data\n"
          ]
        }
      ]
    },
    {
      "cell_type": "code",
      "source": [
        "def generar_combinaciones(matriz_disponibilidad, matriz_roles):\n",
        "    def es_valido(tribunal):\n",
        "        for i in range(3):\n",
        "            if sum(tribunal[:, i]) != 1:\n",
        "                return False\n",
        "        return True\n",
        "\n",
        "    def poda(tribunal):\n",
        "        for i in range(3):\n",
        "            if sum(tribunal[:, i]) == 0:\n",
        "                return False\n",
        "        return True\n",
        "\n",
        "    def backtrack(tribunal):\n",
        "        nonlocal soluciones\n",
        "        if tribunal.shape[0] == 0:\n",
        "            if es_valido(tribunal):\n",
        "                soluciones.append(tribunal)\n",
        "            return\n",
        "        if not poda(tribunal):\n",
        "            return\n",
        "        nuevo_tribunal = np.copy(tribunal)\n",
        "        nuevo_tribunal[:, 0] = tribunal[:, 0] & matriz_roles[0]\n",
        "        nuevo_tribunal[:, 1] = tribunal[:, 1] & matriz_roles[1]\n",
        "        nuevo_tribunal[:, 2] = tribunal[:, 2] & matriz_roles[2]\n",
        "        for i in range(nuevo_tribunal.shape[0]):\n",
        "            if nuevo_tribunal[i].any():\n",
        "                backtrack(np.delete(nuevo_tribunal, i, axis=0))\n",
        "\n",
        "    soluciones = []\n",
        "    backtrack(matriz_disponibilidad)\n",
        "    return soluciones\n",
        "\n",
        "def guardar_resultado(soluciones, nombres_profesores):\n",
        "    data = {'Fecha': [], 'Hora': [], 'Presidente': [], 'Secretario': [], 'Vocal': []}\n",
        "    for i, solucion in enumerate(soluciones):\n",
        "        fecha = \"15 de abril\"\n",
        "        hora = f\"{15 + i}:00\"\n",
        "        for j, profesor in enumerate(solucion):\n",
        "            if profesor[0] == 1:\n",
        "                presidente = nombres_profesores[j]\n",
        "            if profesor[1] == 1:\n",
        "                secretario = nombres_profesores[j]\n",
        "            if profesor[2] == 1:\n",
        "                vocal = nombres_profesores[j]\n",
        "        data['Fecha'].append(fecha)\n",
        "        data['Hora'].append(hora)\n",
        "        data['Presidente'].append(presidente)\n",
        "        data['Secretario'].append(secretario)\n",
        "        data['Vocal'].append(vocal)\n",
        "    df = pd.DataFrame(data)\n",
        "    df.to_csv('tribunales.csv', index=False)\n",
        "disponibilidad = '''\n",
        "0,1,0,1,1,1,0,1,1,1;\n",
        "1,1,0,0,1,1,1,1,0,1;\n",
        "1,1,1,1,0,1,1,1,1,0;\n",
        "1,1,1,0,1,1,1,1,1,1;\n",
        "0,0,0,1,0,1,1,1,0,1;\n",
        "1,0,1,1,1,0,1,0,1,0;\n",
        "1,0,1,0,1,0,1,0,0,1;\n",
        "1,0,1,1,1,1,1,1,0,1;\n",
        "0,1,1,0,1,1,1,1,1,0;\n",
        "1,1,1,0,1,1,0,0,1,0;\n",
        "1,1,0,1,0,1,1,1,1,0;\n",
        "1,1,0,1,1,1,1,1,1,0;\n",
        "1,0,1,1,1,1,0,1,1,0;\n",
        "1,0,1,1,1,1,1,0,1,1;\n",
        "1,1,1,0,1,1,0,1,1,1;\n",
        "1,0,1,0,0,1,0,1,1,1;\n",
        "0,0,1,1,1,0,1,1,0,0;\n",
        "0,1,1,1,1,0,1,0,0,0;\n",
        "1,1,1,1,0,1,0,0,0,1;\n",
        "0,1,1,1,1,1,0,1,1,1;\n",
        "1,0,1,1,1,1,1,1,1,1;\n",
        "0,1,1,1,0,1,1,0,1,1;\n",
        "1,1,0,0,1,1,0,1,1,0;\n",
        "1,1,1,1,1,1,0,1,1,0;\n",
        "1,1,1,1,1,0,0,1,1,1;\n",
        "1,1,1,0,0,0,0,1,1,1;\n",
        "1,1,0,1,1,1,1,1,1,1;\n",
        "1,1,1,1,1,1,1,1,0,1;\n",
        "1,1,0,1,1,1,1,0,1,1;\n",
        "1,1,1,1,0,1,1,1,0,1;\n",
        "1,1,1,1,1,1,1,1,1,1;\n",
        "1,1,0,1,1,0,1,1,1,0;\n",
        "1,1,1,1,1,1,1,0,1,0;\n",
        "0,1,0,1,1,0,0,1,1,0;\n",
        "0,1,1,0,0,1,1,0,1,1\n",
        "'''\n",
        "\n",
        "\n",
        "\n",
        "\n",
        "roles = '''\n",
        "1,1,1;\n",
        "1,1,1;\n",
        "1,0,1;\n",
        "0,1,1;\n",
        "1,1,1;\n",
        "1,1,1;\n",
        "0,1,1;\n",
        "0,1,1;\n",
        "1,1,1;\n",
        "1,1,1\n",
        "'''\n",
        "\n",
        "# Convertir las cadenas en matrices numpy\n",
        "\n",
        "matriz_disponibilidad = np.matrix(disponibilidad.replace(\",\", \" \"))\n",
        "matriz_roles = np.matrix(roles.replace(\",\", \" \"))\n",
        "# Transponer matriz_disponibilidad\n",
        "matriz_disponibilidad = matriz_disponibilidad.T\n"
      ],
      "metadata": {
        "id": "HIa7DGyTqa_2"
      },
      "execution_count": null,
      "outputs": []
    }
  ]
}