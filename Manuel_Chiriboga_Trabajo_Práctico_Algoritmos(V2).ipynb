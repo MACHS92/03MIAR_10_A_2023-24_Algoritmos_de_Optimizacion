{
  "nbformat": 4,
  "nbformat_minor": 0,
  "metadata": {
    "colab": {
      "provenance": [],
      "include_colab_link": true
    },
    "kernelspec": {
      "name": "python3",
      "display_name": "Python 3"
    }
  },
  "cells": [
    {
      "cell_type": "markdown",
      "metadata": {
        "id": "view-in-github",
        "colab_type": "text"
      },
      "source": [
        "<a href=\"https://colab.research.google.com/github/MACHS92/03MIAR_10_A_2023-24_Algoritmos_de_Optimizacion/blob/main/Manuel_Chiriboga_Trabajo_Pr%C3%A1ctico_Algoritmos(V2).ipynb\" target=\"_parent\"><img src=\"https://colab.research.google.com/assets/colab-badge.svg\" alt=\"Open In Colab\"/></a>"
      ]
    },
    {
      "cell_type": "markdown",
      "metadata": {
        "id": "hVbXYX-RfPWh"
      },
      "source": [
        "# Algoritmos de optimización - Trabajo Práctico<br>\n",
        "Nombre y Apellidos: Manuel Alejandro Chiriboga Salazar  <br>\n",
        "Url: https://github.com/MACHS92/03MIAR_10_A_2023-24_Algoritmos_de_Optimizacion<br>\n",
        "Google Colab: https://colab.research.google.com/drive/1uhCtXpNBSYqvIh4YpLesQ3waDD2hzYCs#scrollTo=hVbXYX-RfPWh <br>\n",
        "Problema:\n",
        "\n",
        ">3. Configuración de Tribunales\n",
        "\n",
        " Se precisa configurar tribunales de evaluación para un grupo de 15 alumnos que desean presentar su Trabajo Fin de Máster (TFM).\n",
        "\n",
        " Cada tribunal está compuesto por tres profesores, cada uno desempeñando uno de lossiguientes roles: Presidente, Secretario o Vocal.\n",
        "\n",
        "Los profesores han indicado su disponibilidad horaria para participar en los tribunales de 15h a 21h durante la semana del 15 al 19 de abril:\n",
        "\n",
        "Número de profesores : 10\n",
        "\n",
        "Número de tribunales : 15\n",
        "\n",
        "Disponibilidad/Roles : https://bit.ly/41QWk8o\n",
        "- 1 indica que profesor tiene disponibilidad\n",
        "- 0 en caso contrario\n",
        "\n",
        "\n",
        "\n",
        "\n",
        "\n",
        "\n",
        "\n",
        "\n",
        "\n",
        "\n",
        "                                        "
      ]
    },
    {
      "cell_type": "markdown",
      "source": [
        "#Modelo\n",
        "- ¿Como represento el espacio de soluciones?\n",
        "- ¿Cual es la función objetivo?\n",
        "- ¿Como implemento las restricciones?"
      ],
      "metadata": {
        "id": "Sbo9IqQtpaHZ"
      }
    },
    {
      "cell_type": "markdown",
      "source": [
        "Para resolver este problema de optimización debemos empezar por reconocer cual es la variable para optimizar. En el mismo en este caso sería el tiempo de cada profesor en los tribunales de TFM, evitando solapamientos , o incurriendo en choques de horarios o que algunos profesores tengan mas o menos horas de TFM.\n",
        "\n",
        "##¿Como represento el espacio de soluciones?\n",
        "\n",
        "Par modelar el espacio de solución tenemos  una matriz donde las columna representan los tribunales y las filas representan los profesores. Los valores de la matriz serían binarios, indicando si un profesor está asignado a un tribunal o no.\n",
        "\n",
        "\n",
        "\n",
        "##¿Cual es la función objetivo?\n",
        "\n",
        " La función objetivo seria la minimización del solapamiento de horarios entre los tribunales. Por ejemplo, podríamos minimizar la cantidad total de horas en las que dos tribunales tienen al menos un profesor en común o también disminuir la repetición de profesores en un tribunal para que sea equitativa la distribución.  \n",
        "\n",
        "##¿Como implemento las restricciones?\n",
        "\n",
        "1.-Los profesores solo pueden ser asignados a tribunales durante sus horas de disponibilidad\n",
        "\n",
        "2.-Cada tribunal debe tener exactamente tres profesores asignados.\n",
        "\n",
        "3.-Cada profesor puede participar en un máximo de un tribunal a la vez.\n"
      ],
      "metadata": {
        "id": "mzMX8mcv98lk"
      }
    },
    {
      "cell_type": "code",
      "metadata": {
        "id": "AiskKkzZfy4e"
      },
      "source": [
        "#Respuesta\n",
        "\n"
      ],
      "execution_count": null,
      "outputs": []
    },
    {
      "cell_type": "markdown",
      "source": [
        "#Análisis\n",
        "- ¿Que complejidad tiene el problema?. Orden de complejidad y Contabilizar el espacio de soluciones"
      ],
      "metadata": {
        "id": "HZz52wOppp-U"
      }
    },
    {
      "cell_type": "markdown",
      "source": [
        "Como se observa en el programa anteriormente aplicado podemos notar que esta relaciona directamente  a los tres roles de los profesores y sus impedimentos horarios además impedimentos de los mismos roles . Por lo mismo Por lo tanto, la complejidad del algoritmo es exponencial en términos del número de tribunales, lo que lo hace computacionalmente costoso.\n",
        "\n",
        "En cuanto al espacio de soluciones, cada tribunal puede tener diferentes combinaciones de profesores en cada uno de los tres roles. Dado que hay 10 profesores y 3 roles, el espacio de soluciones total para un tribunal es 103=1000. Dado que hay 15 tribunales en total, el espacio de soluciones completo es 100015, lo que representa una cantidad extremadamente grande de posibles configuraciones."
      ],
      "metadata": {
        "id": "_HvvWHEoGkyC"
      }
    },
    {
      "cell_type": "markdown",
      "source": [
        "#Diseño\n",
        "- ¿Que técnica utilizo? ¿Por qué?"
      ],
      "metadata": {
        "id": "ixEJUwH_pv7M"
      }
    },
    {
      "cell_type": "markdown",
      "source": [
        "En este caso después de analizar y probar un par de algoritmos concretamente genéticos con  la  librería deap de python  y backtracking con poda llegamos a la conclusión que la manera mas optima de conseguir una solución es backtracking con poda"
      ],
      "metadata": {
        "id": "iSO0IKYkpMTz"
      }
    },
    {
      "cell_type": "code",
      "source": [
        "#Importaciones\n",
        "import os\n",
        "import csv\n",
        "import math\n",
        "import random\n",
        "import pandas as pd\n"
      ],
      "metadata": {
        "id": "ZdKPjB9gp2BA"
      },
      "execution_count": 24,
      "outputs": []
    },
    {
      "cell_type": "code",
      "source": [
        "\n",
        "#Cargar  Archivos\n",
        "# Función para cargar la disponibilidad y los roles de los profesores desde archivos CSV\n",
        "def cargar_datos(archivo_disponibilidad, archivo_roles):\n",
        "    disponibilidad = []\n",
        "    roles = []\n",
        "\n",
        "    # Cargar disponibilidad\n",
        "    with open(archivo_disponibilidad, 'r') as file:\n",
        "        reader = csv.reader(file)\n",
        "        for row in reader:\n",
        "            disponibilidad.append([int(val) for val in row])\n",
        "\n",
        "    # Cargar roles\n",
        "    with open(archivo_roles, 'r') as file:\n",
        "        reader = csv.reader(file)\n",
        "        for row in reader:\n",
        "            roles.append([int(val) for val in row])\n",
        "\n",
        "    return disponibilidad, roles\n",
        "\n",
        "# Función de verificación de solución parcial\n",
        "def es_solucion_parcial_valida(solucion_parcial):\n",
        "    # Implementa la lógica para verificar la validez de la solución parcial\n",
        "    # Verificar la disponibilidad y los roles de los profesores asignados a cada tribunal\n",
        "    pass\n",
        "\n",
        "# Función de backtracking\n",
        "def backtracking(tribunales, solucion_parcial, disponibilidad, roles):\n",
        "    # Caso base: si se han asignado profesores a todos los tribunales\n",
        "    if len(solucion_parcial) == tribunales:\n",
        "        if es_solucion_parcial_valida(solucion_parcial):\n",
        "            return solucion_parcial\n",
        "        else:\n",
        "            return None\n",
        "\n",
        "    # Seleccionar el próximo tribunal\n",
        "    proximo_tribunal = len(solucion_parcial)\n",
        "\n",
        "    # Iterar sobre los profesores disponibles para el próximo tribunal\n",
        "    for profesor_idx, disponibilidad_profesor in enumerate(disponibilidad):\n",
        "        if disponibilidad_profesor[proximo_tribunal] == 1:\n",
        "            for rol_idx, rol_disponible in enumerate(roles[profesor_idx]):\n",
        "                if rol_disponible == 1:\n",
        "                    # Asignar el profesor al tribunal con el rol correspondiente\n",
        "                    solucion_parcial.append((profesor_idx, rol_idx))\n",
        "\n",
        "                    # Llamar recursivamente al algoritmo de backtracking para el próximo tribunal\n",
        "                    resultado = backtracking(tribunales, solucion_parcial, disponibilidad, roles)\n",
        "                    if resultado:\n",
        "                        return resultado\n",
        "\n",
        "                    # Retroceder si no se encontró una solución válida\n",
        "                    solucion_parcial.pop()\n",
        "\n",
        "    # Si no se encontró una solución válida\n",
        "    return None\n",
        "\n",
        "# Función principal\n",
        "def configurar_tribunales(archivo_disponibilidad, archivo_roles, num_tribunales):\n",
        "    # Cargar datos desde archivos CSV\n",
        "    disponibilidad, roles = cargar_datos(archivo_disponibilidad, archivo_roles)\n",
        "\n",
        "    # Ejecutar el algoritmo de backtracking\n",
        "    solucion = backtracking(num_tribunales, [], disponibilidad, roles)\n",
        "    # Devolver la solución encontrada\n",
        "    return solucion\n",
        "\n",
        "# Ejemplo de uso\n",
        "archivo_disponibilidad = 'tribunal_horarios.csv'\n",
        "archivo_roles = 'tribunal_roles.csv'\n",
        "num_tribunales = 15\n",
        "solucion = configurar_tribunales(archivo_disponibilidad, archivo_roles, num_tribunales)\n",
        "\n",
        "# Llenar el DataFrame con los tribunales configurados\n",
        "for idx, tribunal in enumerate(tribunales_configurados):\n",
        "    for j, profesor in enumerate(tribunal):\n",
        "        for i, disponibilidad_profesor in enumerate(profesor):\n",
        "            if disponibilidad_profesor == 1:\n",
        "                tribunales_df.iloc[idx, j] = i + 1  # Agregar 1 para que los índices comiencen en 1\n",
        "\n",
        "# Guardar el DataFrame en un archivo CSV\n",
        "tribunales_df.to_csv(\"tribunales_configurados.csv\", index=False)\n"
      ],
      "metadata": {
        "id": "HIa7DGyTqa_2"
      },
      "execution_count": null,
      "outputs": []
    }
  ]
}